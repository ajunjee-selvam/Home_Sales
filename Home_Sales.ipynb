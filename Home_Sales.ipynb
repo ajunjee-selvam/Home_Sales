{
  "cells": [
    {
      "cell_type": "markdown",
      "metadata": {
        "id": "view-in-github",
        "colab_type": "text"
      },
      "source": [
        "<a href=\"https://colab.research.google.com/github/ajunjee-selvam/Home_Sales/blob/main/Home_Sales.ipynb\" target=\"_parent\"><img src=\"https://colab.research.google.com/assets/colab-badge.svg\" alt=\"Open In Colab\"/></a>"
      ]
    },
    {
      "cell_type": "code",
      "execution_count": 13,
      "metadata": {
        "colab": {
          "base_uri": "https://localhost:8080/"
        },
        "id": "a_KW73O2e3dw",
        "outputId": "686a73ca-3817-471d-f6f0-bb360bf01c17"
      },
      "outputs": [
        {
          "output_type": "stream",
          "name": "stdout",
          "text": [
            "\r0% [Working]\r            \rHit:1 https://cloud.r-project.org/bin/linux/ubuntu jammy-cran40/ InRelease\n",
            "\r0% [Connecting to archive.ubuntu.com] [Waiting for headers] [Connecting to ppa.launchpadcontent.net \r                                                                                                    \rHit:2 http://security.ubuntu.com/ubuntu jammy-security InRelease\n",
            "Hit:3 https://developer.download.nvidia.com/compute/cuda/repos/ubuntu2204/x86_64  InRelease\n",
            "Hit:4 http://archive.ubuntu.com/ubuntu jammy InRelease\n",
            "Hit:5 http://archive.ubuntu.com/ubuntu jammy-updates InRelease\n",
            "Hit:6 http://archive.ubuntu.com/ubuntu jammy-backports InRelease\n",
            "Hit:7 https://ppa.launchpadcontent.net/c2d4u.team/c2d4u4.0+/ubuntu jammy InRelease\n",
            "Hit:8 https://ppa.launchpadcontent.net/deadsnakes/ppa/ubuntu jammy InRelease\n",
            "Hit:9 https://ppa.launchpadcontent.net/graphics-drivers/ppa/ubuntu jammy InRelease\n",
            "Hit:10 https://ppa.launchpadcontent.net/ubuntugis/ppa/ubuntu jammy InRelease\n",
            "Reading package lists... Done\n"
          ]
        }
      ],
      "source": [
        "import os\n",
        "# Find the latest version of spark 3.x  from http://www.apache.org/dist/spark/ and enter as the spark version\n",
        "# For example:\n",
        "# spark_version = 'spark-3.5.1'\n",
        "spark_version = 'spark-3.5.1'\n",
        "os.environ['SPARK_VERSION']=spark_version\n",
        "\n",
        "# Install Spark and Java\n",
        "!apt-get update\n",
        "!apt-get install openjdk-11-jdk-headless -qq > /dev/null\n",
        "!wget -q http://www.apache.org/dist/spark/$SPARK_VERSION/$SPARK_VERSION-bin-hadoop3.tgz\n",
        "!tar xf $SPARK_VERSION-bin-hadoop3.tgz\n",
        "!pip install -q findspark\n",
        "\n",
        "# Set Environment Variables\n",
        "os.environ[\"JAVA_HOME\"] = \"/usr/lib/jvm/java-11-openjdk-amd64\"\n",
        "os.environ[\"SPARK_HOME\"] = f\"/content/{spark_version}-bin-hadoop3\"\n",
        "\n",
        "# Start a SparkSession\n",
        "import findspark\n",
        "findspark.init()"
      ]
    },
    {
      "cell_type": "code",
      "execution_count": 14,
      "metadata": {
        "id": "2XbWNf1Te5fM"
      },
      "outputs": [],
      "source": [
        "# Import packages\n",
        "from pyspark.sql import SparkSession\n",
        "import time\n",
        "\n",
        "# Create a SparkSession\n",
        "spark = SparkSession.builder.appName(\"SparkSQL\").getOrCreate()"
      ]
    },
    {
      "cell_type": "code",
      "execution_count": 15,
      "metadata": {
        "id": "wOJqxG_RPSwp",
        "outputId": "540c6f9e-a7ff-48d7-ff32-e0d180064dde",
        "colab": {
          "base_uri": "https://localhost:8080/"
        }
      },
      "outputs": [
        {
          "output_type": "stream",
          "name": "stdout",
          "text": [
            "+--------------------+----------+----------+------+--------+---------+-----------+--------+------+----------+----+\n",
            "|                  id|      date|date_built| price|bedrooms|bathrooms|sqft_living|sqft_lot|floors|waterfront|view|\n",
            "+--------------------+----------+----------+------+--------+---------+-----------+--------+------+----------+----+\n",
            "|f8a53099-ba1c-47d...|2022-04-08|      2016|936923|       4|        3|       3167|   11733|     2|         1|  76|\n",
            "|7530a2d8-1ae3-451...|2021-06-13|      2013|379628|       2|        2|       2235|   14384|     1|         0|  23|\n",
            "|43de979c-0bf0-4c9...|2019-04-12|      2014|417866|       2|        2|       2127|   10575|     2|         0|   0|\n",
            "|b672c137-b88c-48b...|2019-10-16|      2016|239895|       2|        2|       1631|   11149|     2|         0|   0|\n",
            "|e0726d4d-d595-407...|2022-01-08|      2017|424418|       3|        2|       2249|   13878|     2|         0|   4|\n",
            "|5aa00529-0533-46b...|2019-01-30|      2017|218712|       2|        3|       1965|   14375|     2|         0|   7|\n",
            "|131492a1-72e2-4a8...|2020-02-08|      2017|419199|       2|        3|       2062|    8876|     2|         0|   6|\n",
            "|8d54a71b-c520-44e...|2019-07-21|      2010|323956|       2|        3|       1506|   11816|     1|         0|  25|\n",
            "|e81aacfe-17fe-46b...|2020-06-16|      2016|181925|       3|        3|       2137|   11709|     2|         0|  22|\n",
            "|2ed8d509-7372-46d...|2021-08-06|      2015|258710|       3|        3|       1918|    9666|     1|         0|  25|\n",
            "|f876d86f-3c9f-42b...|2019-02-27|      2011|167864|       3|        3|       2471|   13924|     2|         0|  15|\n",
            "|0a2bd445-8508-4d8...|2021-12-30|      2014|337527|       2|        3|       1926|   12556|     1|         0|  23|\n",
            "|941bad30-eb49-4a7...|2020-05-09|      2015|229896|       3|        3|       2197|    8641|     1|         0|   3|\n",
            "|dd61eb34-6589-4c0...|2021-07-25|      2016|210247|       3|        2|       1672|   11986|     2|         0|  28|\n",
            "|f1e4cef7-d151-439...|2019-02-01|      2011|398667|       2|        3|       2331|   11356|     1|         0|   7|\n",
            "|ea620c7b-c2f7-4c6...|2021-05-31|      2011|437958|       3|        3|       2356|   11052|     1|         0|  26|\n",
            "|f233cb41-6f33-4b0...|2021-07-18|      2016|437375|       4|        3|       1704|   11721|     2|         0|  34|\n",
            "|c797ca12-52cd-4b1...|2019-06-08|      2015|288650|       2|        3|       2100|   10419|     2|         0|   7|\n",
            "|0cfe57f3-28c2-472...|2019-10-04|      2015|308313|       3|        3|       1960|    9453|     2|         0|   2|\n",
            "|4566cd2a-ac6e-435...|2019-07-15|      2016|177541|       3|        3|       2130|   10517|     2|         0|  25|\n",
            "+--------------------+----------+----------+------+--------+---------+-----------+--------+------+----------+----+\n",
            "only showing top 20 rows\n",
            "\n"
          ]
        }
      ],
      "source": [
        "# 1. Read in the AWS S3 bucket into a DataFrame.\n",
        "from pyspark import SparkFiles\n",
        "url = \"https://2u-data-curriculum-team.s3.amazonaws.com/dataviz-classroom/v1.2/22-big-data/home_sales_revised.csv\"\n",
        "spark.sparkContext.addFile(url)\n",
        "home_df = spark.read.csv(SparkFiles.get(\"home_sales_revised.csv\"), sep=\",\", header=True, ignoreLeadingWhiteSpace=True)\n",
        "home_df.show()\n"
      ]
    },
    {
      "cell_type": "code",
      "execution_count": 16,
      "metadata": {
        "id": "RoljcJ7WPpnm"
      },
      "outputs": [],
      "source": [
        "# 2. Create a temporary view of the DataFrame.\n",
        "home_df.createOrReplaceTempView('home_sales')\n"
      ]
    },
    {
      "cell_type": "code",
      "execution_count": 17,
      "metadata": {
        "id": "L6fkwOeOmqvq",
        "outputId": "1a2c2693-d12d-4622-8ea3-dd7df3d278a3",
        "colab": {
          "base_uri": "https://localhost:8080/"
        }
      },
      "outputs": [
        {
          "output_type": "stream",
          "name": "stdout",
          "text": [
            "+--------------------+----------+\n",
            "|round(avg(price), 2)|year(date)|\n",
            "+--------------------+----------+\n",
            "|           296363.88|      2022|\n",
            "|           301819.44|      2021|\n",
            "|           298353.78|      2020|\n",
            "|            300263.7|      2019|\n",
            "+--------------------+----------+\n",
            "\n"
          ]
        }
      ],
      "source": [
        "# 3. What is the average price for a four bedroom house sold per year, rounded to two decimal places?\n",
        "avg_price_4_bdrms = spark.sql(\"SELECT ROUND(AVG(price),2), YEAR(date) FROM home_sales where bedrooms ==4 GROUP BY YEAR(date) ORDER BY YEAR(date) desc\")\n",
        "avg_price_4_bdrms.show()\n"
      ]
    },
    {
      "cell_type": "code",
      "execution_count": 18,
      "metadata": {
        "id": "l8p_tUS8h8it",
        "outputId": "b4acea88-719d-4482-9c7e-b1dd611f4960",
        "colab": {
          "base_uri": "https://localhost:8080/"
        }
      },
      "outputs": [
        {
          "output_type": "stream",
          "name": "stdout",
          "text": [
            "+--------------------+----------------+\n",
            "|round(avg(price), 2)|year(date_built)|\n",
            "+--------------------+----------------+\n",
            "|           292676.79|            2017|\n",
            "|           290555.07|            2016|\n",
            "|            288770.3|            2015|\n",
            "|           290852.27|            2014|\n",
            "|           295962.27|            2013|\n",
            "|           293683.19|            2012|\n",
            "|           291117.47|            2011|\n",
            "|           292859.62|            2010|\n",
            "+--------------------+----------------+\n",
            "\n"
          ]
        }
      ],
      "source": [
        "# 4. What is the average price of a home for each year the home was built, that have 3 bedrooms and 3 bathrooms, rounded to two decimal places?\n",
        "avg_price_3_bdrms_3_baths = spark.sql(\"SELECT ROUND(AVG(price),2), YEAR(date_built) FROM home_sales WHERE bedrooms ==3 and bathrooms ==3 GROUP BY YEAR(date_built) ORDER BY YEAR(date_built) desc\")\n",
        "avg_price_3_bdrms_3_baths.show()\n"
      ]
    },
    {
      "cell_type": "code",
      "execution_count": 19,
      "metadata": {
        "id": "Y-Eytz64liDU",
        "outputId": "0c76fb14-1702-40bf-eab5-cb375db2dd00",
        "colab": {
          "base_uri": "https://localhost:8080/"
        }
      },
      "outputs": [
        {
          "output_type": "stream",
          "name": "stdout",
          "text": [
            "+--------------------+----------------+\n",
            "|round(avg(price), 2)|year(date_built)|\n",
            "+--------------------+----------------+\n",
            "|           280317.58|            2017|\n",
            "|            293965.1|            2016|\n",
            "|           297609.97|            2015|\n",
            "|           298264.72|            2014|\n",
            "|           303676.79|            2013|\n",
            "|           307539.97|            2012|\n",
            "|           276553.81|            2011|\n",
            "|           285010.22|            2010|\n",
            "+--------------------+----------------+\n",
            "\n"
          ]
        }
      ],
      "source": [
        "# 5. What is the average price of a home for each year the home was built, that have 3 bedrooms, 3 bathrooms, with two floors, and are greater than or equal to 2,000 square feet, rounded to two decimal places?\n",
        "avg_price_3_bdrms_3_baths_2flrs_2000sqft = spark.sql(\"SELECT ROUND(AVG(price),2), YEAR(date_built) FROM home_sales WHERE bedrooms ==3 and bathrooms ==3 and floors = 2 and sqft_living >=2000 GROUP BY YEAR(date_built) ORDER BY YEAR(date_built) desc\")\n",
        "avg_price_3_bdrms_3_baths_2flrs_2000sqft.show()\n"
      ]
    },
    {
      "cell_type": "code",
      "execution_count": 20,
      "metadata": {
        "colab": {
          "base_uri": "https://localhost:8080/"
        },
        "id": "GUrfgOX1pCRd",
        "outputId": "fdcf0d68-47f5-4eca-b386-9ad4ea296abb"
      },
      "outputs": [
        {
          "output_type": "stream",
          "name": "stdout",
          "text": [
            "+----+--------------------+\n",
            "|view|round(avg(price), 2)|\n",
            "+----+--------------------+\n",
            "|  99|          1061201.42|\n",
            "|  98|          1053739.33|\n",
            "|  97|          1129040.15|\n",
            "|  96|          1017815.92|\n",
            "|  95|           1054325.6|\n",
            "|  94|           1033536.2|\n",
            "|  93|          1026006.06|\n",
            "|  92|           970402.55|\n",
            "|  91|          1137372.73|\n",
            "|  90|          1062654.16|\n",
            "|   9|           401393.34|\n",
            "|  89|          1107839.15|\n",
            "|  88|          1031719.35|\n",
            "|  87|           1072285.2|\n",
            "|  86|          1070444.25|\n",
            "|  85|          1056336.74|\n",
            "|  84|          1117233.13|\n",
            "|  83|          1033965.93|\n",
            "|  82|           1063498.0|\n",
            "|  81|          1053472.79|\n",
            "+----+--------------------+\n",
            "only showing top 20 rows\n",
            "\n",
            "--- 0.6598002910614014 seconds ---\n"
          ]
        }
      ],
      "source": [
        "# 6. What is the average price of a home per \"view\" rating, rounded to two decimal places, having an average home price greater than or equal to $350,000? Order by descending view rating.\n",
        "# Although this is a small dataset, determine the run time for this query.\n",
        "\n",
        "start_time = time.time()\n",
        "\n",
        "spark.sql(\"SELECT view, ROUND(AVG(price),2) FROM home_sales WHERE price >= 350000 GROUP BY view ORDER BY view desc\").show()\n",
        "\n",
        "print(\"--- %s seconds ---\" % (time.time() - start_time))"
      ]
    },
    {
      "cell_type": "code",
      "execution_count": 21,
      "metadata": {
        "id": "KAhk3ZD2tFy8",
        "outputId": "089e587b-5298-4869-de56-153405641612",
        "colab": {
          "base_uri": "https://localhost:8080/"
        }
      },
      "outputs": [
        {
          "output_type": "execute_result",
          "data": {
            "text/plain": [
              "DataFrame[]"
            ]
          },
          "metadata": {},
          "execution_count": 21
        }
      ],
      "source": [
        "# 7. Cache the the temporary table home_sales.\n",
        "spark.sql(\"cache table home_sales\")"
      ]
    },
    {
      "cell_type": "code",
      "execution_count": 22,
      "metadata": {
        "id": "4opVhbvxtL-i",
        "outputId": "ef08c420-a86b-46c7-878d-25cc08f9057b",
        "colab": {
          "base_uri": "https://localhost:8080/"
        }
      },
      "outputs": [
        {
          "output_type": "execute_result",
          "data": {
            "text/plain": [
              "True"
            ]
          },
          "metadata": {},
          "execution_count": 22
        }
      ],
      "source": [
        "# 8. Check if the table is cached.\n",
        "spark.catalog.isCached('home_sales')"
      ]
    },
    {
      "cell_type": "code",
      "execution_count": 23,
      "metadata": {
        "colab": {
          "base_uri": "https://localhost:8080/"
        },
        "id": "5GnL46lwTSEk",
        "outputId": "37bcafd8-5cc7-4b55-8471-f3406b2a2214"
      },
      "outputs": [
        {
          "output_type": "stream",
          "name": "stdout",
          "text": [
            "+----+--------------------+\n",
            "|view|round(avg(price), 2)|\n",
            "+----+--------------------+\n",
            "|  99|          1061201.42|\n",
            "|  98|          1053739.33|\n",
            "|  97|          1129040.15|\n",
            "|  96|          1017815.92|\n",
            "|  95|           1054325.6|\n",
            "|  94|           1033536.2|\n",
            "|  93|          1026006.06|\n",
            "|  92|           970402.55|\n",
            "|  91|          1137372.73|\n",
            "|  90|          1062654.16|\n",
            "|   9|           401393.34|\n",
            "|  89|          1107839.15|\n",
            "|  88|          1031719.35|\n",
            "|  87|           1072285.2|\n",
            "|  86|          1070444.25|\n",
            "|  85|          1056336.74|\n",
            "|  84|          1117233.13|\n",
            "|  83|          1033965.93|\n",
            "|  82|           1063498.0|\n",
            "|  81|          1053472.79|\n",
            "+----+--------------------+\n",
            "only showing top 20 rows\n",
            "\n",
            "--- 0.5525689125061035 seconds ---\n"
          ]
        }
      ],
      "source": [
        "# 9. Using the cached data, run the last query above, that calculates the average price of a home per \"view\" rating, rounded to two decimal places, having an average home price greater than or equal to $350,000.\n",
        "\n",
        "start_time = time.time()\n",
        "\n",
        "spark.sql(\"SELECT view, ROUND(AVG(price),2) FROM home_sales WHERE price >= 350000 GROUP BY view ORDER BY view desc\").show()\n",
        "\n",
        "print(\"--- %s seconds ---\" % (time.time() - start_time))\n"
      ]
    },
    {
      "cell_type": "code",
      "source": [
        "# Determine the runtime and compare it to the uncached runtime.\n",
        "diff = 0.6598002910614014 - 0.5525689125061035\n",
        "print(f'The cached runtime is {diff} seconds faster than the uncached runtime.')"
      ],
      "metadata": {
        "id": "Cxp1ha7ZfB8e",
        "outputId": "b7fb16b1-4ce3-4235-e0bb-15b10aa23ea3",
        "colab": {
          "base_uri": "https://localhost:8080/"
        }
      },
      "execution_count": 26,
      "outputs": [
        {
          "output_type": "stream",
          "name": "stdout",
          "text": [
            "The cached runtime is 0.10723137855529785 seconds faster than the uncached runtime.\n"
          ]
        }
      ]
    },
    {
      "cell_type": "code",
      "execution_count": 27,
      "metadata": {
        "id": "Qm12WN9isHBR"
      },
      "outputs": [],
      "source": [
        "# 10. Partition by the \"date_built\" field on the formatted parquet home sales data\n",
        "home_df.write.partitionBy('date_built').parquet('parquet_home_sales', mode='overwrite')"
      ]
    },
    {
      "cell_type": "code",
      "execution_count": 29,
      "metadata": {
        "id": "AZ7BgY61sRqY",
        "outputId": "a0835fd4-95ee-4a42-b4cf-390a0f4adf6e",
        "colab": {
          "base_uri": "https://localhost:8080/"
        }
      },
      "outputs": [
        {
          "output_type": "stream",
          "name": "stdout",
          "text": [
            "+--------------------+----------+------+--------+---------+-----------+--------+------+----------+----+----------+\n",
            "|                  id|      date| price|bedrooms|bathrooms|sqft_living|sqft_lot|floors|waterfront|view|date_built|\n",
            "+--------------------+----------+------+--------+---------+-----------+--------+------+----------+----+----------+\n",
            "|2ed8d509-7372-46d...|2021-08-06|258710|       3|        3|       1918|    9666|     1|         0|  25|      2015|\n",
            "|941bad30-eb49-4a7...|2020-05-09|229896|       3|        3|       2197|    8641|     1|         0|   3|      2015|\n",
            "|c797ca12-52cd-4b1...|2019-06-08|288650|       2|        3|       2100|   10419|     2|         0|   7|      2015|\n",
            "|0cfe57f3-28c2-472...|2019-10-04|308313|       3|        3|       1960|    9453|     2|         0|   2|      2015|\n",
            "|d715f295-2fbf-4e9...|2021-05-17|391574|       3|        2|       1635|    8040|     2|         0|  10|      2015|\n",
            "|a18515a2-86f3-46b...|2022-02-18|419543|       3|        2|       1642|   12826|     2|         0|  24|      2015|\n",
            "|98f6a9ad-8870-474...|2022-05-07|136752|       2|        3|       1701|   10771|     2|         0|   5|      2015|\n",
            "|7ac67498-b6f3-403...|2021-05-12|349318|       4|        3|       2417|   11304|     2|         0|  37|      2015|\n",
            "|c9bfdb1c-2499-4e3...|2021-12-07|268874|       2|        2|       1537|   12177|     1|         0|  10|      2015|\n",
            "|34c31a34-220d-469...|2019-02-06|409011|       3|        3|       2356|   10507|     1|         0|   1|      2015|\n",
            "|be0ccb95-415d-411...|2020-05-15|425154|       4|        3|       2120|   14229|     2|         0|   4|      2015|\n",
            "|e9031a86-1294-444...|2021-10-09|222322|       4|        3|       1928|   10510|     1|         0|  38|      2015|\n",
            "|e6d7c2a7-596e-4ec...|2019-03-15|131201|       4|        3|       1633|   14655|     1|         0|  22|      2015|\n",
            "|6683714b-3df7-454...|2022-02-01|333403|       4|        2|       2059|    9793|     2|         0|   4|      2015|\n",
            "|00fc996f-508c-430...|2021-07-15|373139|       3|        3|       1763|   11363|     1|         0|  39|      2015|\n",
            "|3d5545f8-bd3b-476...|2020-09-19|797862|       4|        6|       3494|   10385|     2|         0|  90|      2015|\n",
            "|ec6d357c-2435-43e...|2019-05-28|401792|       3|        2|       1627|   10765|     1|         0|  50|      2015|\n",
            "|c2be38fb-814a-403...|2020-03-20|352237|       3|        3|       2485|   10954|     2|         0|   6|      2015|\n",
            "|9570de1f-5a74-45b...|2021-11-29|298453|       3|        2|       2222|   10634|     1|         0|   6|      2015|\n",
            "|1baeff4f-fc00-489...|2020-12-17|152775|       3|        2|       1623|   13851|     1|         0|  41|      2015|\n",
            "+--------------------+----------+------+--------+---------+-----------+--------+------+----------+----+----------+\n",
            "only showing top 20 rows\n",
            "\n"
          ]
        }
      ],
      "source": [
        "# 11. Read the parquet formatted data.\n",
        "parquet_home_sales_df = spark.read.parquet('parquet_home_sales')\n",
        "parquet_home_sales_df.show()"
      ]
    },
    {
      "cell_type": "code",
      "execution_count": 30,
      "metadata": {
        "id": "J6MJkHfvVcvh"
      },
      "outputs": [],
      "source": [
        "# 12. Create a temporary table for the parquet data.\n",
        "parquet_home_sales_df.createOrReplaceTempView('parquet_home_sales')"
      ]
    },
    {
      "cell_type": "code",
      "execution_count": 31,
      "metadata": {
        "colab": {
          "base_uri": "https://localhost:8080/"
        },
        "id": "G_Vhb52rU1Sn",
        "outputId": "9aebdd50-8543-4ac7-f0c2-5ef4d7dbd343"
      },
      "outputs": [
        {
          "output_type": "stream",
          "name": "stdout",
          "text": [
            "+----+--------------------+\n",
            "|view|round(avg(price), 2)|\n",
            "+----+--------------------+\n",
            "|  99|          1061201.42|\n",
            "|  98|          1053739.33|\n",
            "|  97|          1129040.15|\n",
            "|  96|          1017815.92|\n",
            "|  95|           1054325.6|\n",
            "|  94|           1033536.2|\n",
            "|  93|          1026006.06|\n",
            "|  92|           970402.55|\n",
            "|  91|          1137372.73|\n",
            "|  90|          1062654.16|\n",
            "|   9|           401393.34|\n",
            "|  89|          1107839.15|\n",
            "|  88|          1031719.35|\n",
            "|  87|           1072285.2|\n",
            "|  86|          1070444.25|\n",
            "|  85|          1056336.74|\n",
            "|  84|          1117233.13|\n",
            "|  83|          1033965.93|\n",
            "|  82|           1063498.0|\n",
            "|  81|          1053472.79|\n",
            "+----+--------------------+\n",
            "only showing top 20 rows\n",
            "\n",
            "--- 0.8969841003417969 seconds ---\n"
          ]
        }
      ],
      "source": [
        "# 13. Using the parquet DataFrame, run the last query above, that calculates the average price of a home per \"view\" rating, rounded to two decimal places, having an average home price greater than or equal to $350,000.\n",
        "\n",
        "start_time = time.time()\n",
        "\n",
        "spark.sql(\"SELECT view, ROUND(AVG(price),2) FROM parquet_home_sales WHERE price >= 350000 GROUP BY view ORDER BY view desc\").show()\n",
        "\n",
        "print(\"--- %s seconds ---\" % (time.time() - start_time))"
      ]
    },
    {
      "cell_type": "code",
      "source": [
        "# Determine the runtime and compare it to the cached runtime.\n",
        "diff2 = 0.8969841003417969 - 0.5525689125061035\n",
        "print(f'The parquet runtime is {diff2} seconds longer than the cached runtime.')"
      ],
      "metadata": {
        "id": "ZcESHbW5g0US",
        "outputId": "149e6779-205f-4fc1-bd7a-4ec78ab6ad54",
        "colab": {
          "base_uri": "https://localhost:8080/"
        }
      },
      "execution_count": 32,
      "outputs": [
        {
          "output_type": "stream",
          "name": "stdout",
          "text": [
            "The parquet runtime is 0.34441518783569336 seconds longer than the cached runtime.\n"
          ]
        }
      ]
    },
    {
      "cell_type": "code",
      "execution_count": 33,
      "metadata": {
        "id": "hjjYzQGjtbq8",
        "outputId": "caed3ff1-639e-4989-ffd3-ababa0fb4f74",
        "colab": {
          "base_uri": "https://localhost:8080/"
        }
      },
      "outputs": [
        {
          "output_type": "execute_result",
          "data": {
            "text/plain": [
              "DataFrame[]"
            ]
          },
          "metadata": {},
          "execution_count": 33
        }
      ],
      "source": [
        "# 14. Uncache the home_sales temporary table.\n",
        "spark.sql(\"uncache table home_sales\")"
      ]
    },
    {
      "cell_type": "code",
      "execution_count": 34,
      "metadata": {
        "id": "Sy9NBvO7tlmm",
        "outputId": "6c219191-0f4d-43dd-fee2-69936f287beb",
        "colab": {
          "base_uri": "https://localhost:8080/"
        }
      },
      "outputs": [
        {
          "output_type": "execute_result",
          "data": {
            "text/plain": [
              "False"
            ]
          },
          "metadata": {},
          "execution_count": 34
        }
      ],
      "source": [
        "# 15. Check if the home_sales is no longer cached\n",
        "spark.catalog.isCached('home_sales')\n"
      ]
    }
  ],
  "metadata": {
    "colab": {
      "provenance": [],
      "include_colab_link": true
    },
    "gpuClass": "standard",
    "kernelspec": {
      "display_name": "Python 3 (ipykernel)",
      "language": "python",
      "name": "python3"
    },
    "language_info": {
      "codemirror_mode": {
        "name": "ipython",
        "version": 3
      },
      "file_extension": ".py",
      "mimetype": "text/x-python",
      "name": "python",
      "nbconvert_exporter": "python",
      "pygments_lexer": "ipython3",
      "version": "3.10.4"
    },
    "nteract": {
      "version": "0.28.0"
    }
  },
  "nbformat": 4,
  "nbformat_minor": 0
}